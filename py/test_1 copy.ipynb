{
    "cells": [
        {
            "cell_type": "code",
            "execution_count": 3,
            "source": [
                "import pandas as pd\r\n",
                "import pickle\r\n",
                "import numpy as np\r\n",
                "import xgboost\r\n",
                "from sklearn.preprocessing import OneHotEncoder, StandardScaler\r\n",
                "from sklearn.model_selection import train_test_split, GridSearchCV, StratifiedKFold, KFold,StratifiedShuffleSplit\r\n",
                "from sklearn.metrics import f1_score, accuracy_score, precision_score, recall_score,roc_auc_score, roc_curve, average_precision_score,precision_recall_curve\r\n",
                "import matplotlib.pyplot as plt\r\n",
                "%matplotlib inline\r\n",
                "from sklearn.metrics import mean_squared_error\r\n",
                "from sklearn.model_selection import KFold\r\n",
                "from sklearn.model_selection import cross_val_score\r\n",
                "pd.set_option(\"display.max_columns\",80)"
            ],
            "outputs": [],
            "metadata": {}
        },
        {
            "cell_type": "code",
            "execution_count": 2,
            "source": [
                "import os\r\n",
                "if os.path.exists(\"demofile3.csv\"):\r\n",
                "  os.remove(\"demofile3.csv\")\r\n",
                "else:\r\n",
                "  print(\"The file does not exist\")\r\n",
                "\r\n",
                "f = open(\"demofile3.csv\", \"a\")\r\n",
                "filed = 'NUMACC,distance,rain,temperatur,wind,ROAD_TYPE,SURFACE,LANE,ONEWAY,Speed'\r\n",
                "a=input()\r\n",
                "b=input()\r\n",
                "lane = ''\r\n",
                "if int(a) == 2:\r\n",
                "   lane = '0,1,0,0,0' \r\n",
                "elif int(a) == 3:\r\n",
                "    lane = '0,0,1,0,0'\r\n",
                "wind = float(b)\r\n",
                "f.write(filed)    \r\n",
                "f.write(f\"\\n{lane},{wind} \")\r\n",
                "\r\n",
                "f.close()\r\n"
            ],
            "outputs": [],
            "metadata": {}
        },
        {
            "cell_type": "code",
            "execution_count": 15,
            "source": [
                "import joblib\r\n",
                "dataset = r\"E:\\StudyLAB\\1_2564\\499\\code\\demofile3.csv\"\r\n",
                "df = pd.read_csv(dataset)\r\n",
                "df = df.dropna(how='any', axis=0)\r\n",
                "df.head(5)\r\n",
                "feature_names = df.columns.tolist()\r\n",
                "feature_sel = range(len(feature_names))\r\n",
                "fnames = np.array(feature_names)[feature_sel]\r\n",
                "X = df.values\r\n",
                "ddata = xgboost.DMatrix(X, feature_names=fnames)\r\n",
                "model = joblib.load('accmodel.joblib')\r\n",
                "a = model.predict(ddata)\r\n",
                "print(a)"
            ],
            "outputs": [
                {
                    "output_type": "stream",
                    "name": "stdout",
                    "text": [
                        "[0.14212364]\n"
                    ]
                }
            ],
            "metadata": {}
        },
        {
            "cell_type": "code",
            "execution_count": 3,
            "source": [
                "dataset = r\"E:\\StudyLAB\\1_2564\\499\\dataset\\test_2.csv\"\r\n",
                "df = pd.read_csv(dataset)\r\n",
                "df = df.dropna(how='any',axis=0)\r\n",
                "df.shape\r\n",
                "print(df)"
            ],
            "outputs": [
                {
                    "output_type": "stream",
                    "name": "stdout",
                    "text": [
                        "      NUMACC  distance  rain  temperatur  wind  ROAD_TYPE  SURFACE  LANE  \\\n",
                        "0          1    174.60  2.22       27.82  3.80          3        2     2   \n",
                        "1          1    111.78  0.56       28.66  5.63          1        1     2   \n",
                        "2          1     92.26  2.50       27.84  7.13          3        2     2   \n",
                        "3          1     88.52  1.74       26.33  3.91          3        2     2   \n",
                        "4          0     67.56  3.58       27.01  3.63          1        1     2   \n",
                        "...      ...       ...   ...         ...   ...        ...      ...   ...   \n",
                        "1586       0    257.70  0.42       28.07  5.32          6        2     2   \n",
                        "1587       1     85.71  0.79       32.28  7.26          3        2     2   \n",
                        "1588       1    152.40  1.29       25.56  4.72          3        2     4   \n",
                        "1589       0     38.60  0.17       29.24  3.93          6        2     3   \n",
                        "1590       0     52.77  1.04       28.56  6.27          3        2     2   \n",
                        "\n",
                        "      ONEWAY  Speed  \n",
                        "0          1     45  \n",
                        "1          0     70  \n",
                        "2          0     45  \n",
                        "3          1     45  \n",
                        "4          1     80  \n",
                        "...      ...    ...  \n",
                        "1586       0     45  \n",
                        "1587       1     80  \n",
                        "1588       0     45  \n",
                        "1589       1     45  \n",
                        "1590       1     80  \n",
                        "\n",
                        "[1591 rows x 10 columns]\n"
                    ]
                }
            ],
            "metadata": {}
        },
        {
            "cell_type": "code",
            "execution_count": 4,
            "source": [
                "cm_field = ['ROAD_TYPE','SURFACE','ONEWAY','LANE']\r\n",
                "df_cm = pd.get_dummies(df,columns=cm_field)\r\n",
                "cm_feature_names = pd.get_dummies(df[cm_field],columns=cm_field).columns.tolist()\r\n",
                "df_cm.head(20)\r\n",
                "# print(cm_feature_names)"
            ],
            "outputs": [
                {
                    "output_type": "execute_result",
                    "data": {
                        "text/html": [
                            "<div>\n",
                            "<style scoped>\n",
                            "    .dataframe tbody tr th:only-of-type {\n",
                            "        vertical-align: middle;\n",
                            "    }\n",
                            "\n",
                            "    .dataframe tbody tr th {\n",
                            "        vertical-align: top;\n",
                            "    }\n",
                            "\n",
                            "    .dataframe thead th {\n",
                            "        text-align: right;\n",
                            "    }\n",
                            "</style>\n",
                            "<table border=\"1\" class=\"dataframe\">\n",
                            "  <thead>\n",
                            "    <tr style=\"text-align: right;\">\n",
                            "      <th></th>\n",
                            "      <th>NUMACC</th>\n",
                            "      <th>distance</th>\n",
                            "      <th>rain</th>\n",
                            "      <th>temperatur</th>\n",
                            "      <th>wind</th>\n",
                            "      <th>Speed</th>\n",
                            "      <th>ROAD_TYPE_1</th>\n",
                            "      <th>ROAD_TYPE_2</th>\n",
                            "      <th>ROAD_TYPE_3</th>\n",
                            "      <th>ROAD_TYPE_5</th>\n",
                            "      <th>ROAD_TYPE_6</th>\n",
                            "      <th>ROAD_TYPE_7</th>\n",
                            "      <th>ROAD_TYPE_8</th>\n",
                            "      <th>ROAD_TYPE_9</th>\n",
                            "      <th>SURFACE_1</th>\n",
                            "      <th>SURFACE_2</th>\n",
                            "      <th>SURFACE_9</th>\n",
                            "      <th>ONEWAY_0</th>\n",
                            "      <th>ONEWAY_1</th>\n",
                            "      <th>LANE_1</th>\n",
                            "      <th>LANE_2</th>\n",
                            "      <th>LANE_3</th>\n",
                            "      <th>LANE_4</th>\n",
                            "      <th>LANE_6</th>\n",
                            "    </tr>\n",
                            "  </thead>\n",
                            "  <tbody>\n",
                            "    <tr>\n",
                            "      <th>0</th>\n",
                            "      <td>1</td>\n",
                            "      <td>174.60</td>\n",
                            "      <td>2.22</td>\n",
                            "      <td>27.82</td>\n",
                            "      <td>3.80</td>\n",
                            "      <td>45</td>\n",
                            "      <td>0</td>\n",
                            "      <td>0</td>\n",
                            "      <td>1</td>\n",
                            "      <td>0</td>\n",
                            "      <td>0</td>\n",
                            "      <td>0</td>\n",
                            "      <td>0</td>\n",
                            "      <td>0</td>\n",
                            "      <td>0</td>\n",
                            "      <td>1</td>\n",
                            "      <td>0</td>\n",
                            "      <td>0</td>\n",
                            "      <td>1</td>\n",
                            "      <td>0</td>\n",
                            "      <td>1</td>\n",
                            "      <td>0</td>\n",
                            "      <td>0</td>\n",
                            "      <td>0</td>\n",
                            "    </tr>\n",
                            "    <tr>\n",
                            "      <th>1</th>\n",
                            "      <td>1</td>\n",
                            "      <td>111.78</td>\n",
                            "      <td>0.56</td>\n",
                            "      <td>28.66</td>\n",
                            "      <td>5.63</td>\n",
                            "      <td>70</td>\n",
                            "      <td>1</td>\n",
                            "      <td>0</td>\n",
                            "      <td>0</td>\n",
                            "      <td>0</td>\n",
                            "      <td>0</td>\n",
                            "      <td>0</td>\n",
                            "      <td>0</td>\n",
                            "      <td>0</td>\n",
                            "      <td>1</td>\n",
                            "      <td>0</td>\n",
                            "      <td>0</td>\n",
                            "      <td>1</td>\n",
                            "      <td>0</td>\n",
                            "      <td>0</td>\n",
                            "      <td>1</td>\n",
                            "      <td>0</td>\n",
                            "      <td>0</td>\n",
                            "      <td>0</td>\n",
                            "    </tr>\n",
                            "    <tr>\n",
                            "      <th>2</th>\n",
                            "      <td>1</td>\n",
                            "      <td>92.26</td>\n",
                            "      <td>2.50</td>\n",
                            "      <td>27.84</td>\n",
                            "      <td>7.13</td>\n",
                            "      <td>45</td>\n",
                            "      <td>0</td>\n",
                            "      <td>0</td>\n",
                            "      <td>1</td>\n",
                            "      <td>0</td>\n",
                            "      <td>0</td>\n",
                            "      <td>0</td>\n",
                            "      <td>0</td>\n",
                            "      <td>0</td>\n",
                            "      <td>0</td>\n",
                            "      <td>1</td>\n",
                            "      <td>0</td>\n",
                            "      <td>1</td>\n",
                            "      <td>0</td>\n",
                            "      <td>0</td>\n",
                            "      <td>1</td>\n",
                            "      <td>0</td>\n",
                            "      <td>0</td>\n",
                            "      <td>0</td>\n",
                            "    </tr>\n",
                            "    <tr>\n",
                            "      <th>3</th>\n",
                            "      <td>1</td>\n",
                            "      <td>88.52</td>\n",
                            "      <td>1.74</td>\n",
                            "      <td>26.33</td>\n",
                            "      <td>3.91</td>\n",
                            "      <td>45</td>\n",
                            "      <td>0</td>\n",
                            "      <td>0</td>\n",
                            "      <td>1</td>\n",
                            "      <td>0</td>\n",
                            "      <td>0</td>\n",
                            "      <td>0</td>\n",
                            "      <td>0</td>\n",
                            "      <td>0</td>\n",
                            "      <td>0</td>\n",
                            "      <td>1</td>\n",
                            "      <td>0</td>\n",
                            "      <td>0</td>\n",
                            "      <td>1</td>\n",
                            "      <td>0</td>\n",
                            "      <td>1</td>\n",
                            "      <td>0</td>\n",
                            "      <td>0</td>\n",
                            "      <td>0</td>\n",
                            "    </tr>\n",
                            "    <tr>\n",
                            "      <th>4</th>\n",
                            "      <td>0</td>\n",
                            "      <td>67.56</td>\n",
                            "      <td>3.58</td>\n",
                            "      <td>27.01</td>\n",
                            "      <td>3.63</td>\n",
                            "      <td>80</td>\n",
                            "      <td>1</td>\n",
                            "      <td>0</td>\n",
                            "      <td>0</td>\n",
                            "      <td>0</td>\n",
                            "      <td>0</td>\n",
                            "      <td>0</td>\n",
                            "      <td>0</td>\n",
                            "      <td>0</td>\n",
                            "      <td>1</td>\n",
                            "      <td>0</td>\n",
                            "      <td>0</td>\n",
                            "      <td>0</td>\n",
                            "      <td>1</td>\n",
                            "      <td>0</td>\n",
                            "      <td>1</td>\n",
                            "      <td>0</td>\n",
                            "      <td>0</td>\n",
                            "      <td>0</td>\n",
                            "    </tr>\n",
                            "    <tr>\n",
                            "      <th>5</th>\n",
                            "      <td>0</td>\n",
                            "      <td>61.22</td>\n",
                            "      <td>12.17</td>\n",
                            "      <td>27.86</td>\n",
                            "      <td>4.08</td>\n",
                            "      <td>80</td>\n",
                            "      <td>1</td>\n",
                            "      <td>0</td>\n",
                            "      <td>0</td>\n",
                            "      <td>0</td>\n",
                            "      <td>0</td>\n",
                            "      <td>0</td>\n",
                            "      <td>0</td>\n",
                            "      <td>0</td>\n",
                            "      <td>1</td>\n",
                            "      <td>0</td>\n",
                            "      <td>0</td>\n",
                            "      <td>0</td>\n",
                            "      <td>1</td>\n",
                            "      <td>0</td>\n",
                            "      <td>1</td>\n",
                            "      <td>0</td>\n",
                            "      <td>0</td>\n",
                            "      <td>0</td>\n",
                            "    </tr>\n",
                            "    <tr>\n",
                            "      <th>6</th>\n",
                            "      <td>1</td>\n",
                            "      <td>334.34</td>\n",
                            "      <td>1.70</td>\n",
                            "      <td>28.97</td>\n",
                            "      <td>3.29</td>\n",
                            "      <td>45</td>\n",
                            "      <td>0</td>\n",
                            "      <td>0</td>\n",
                            "      <td>0</td>\n",
                            "      <td>0</td>\n",
                            "      <td>1</td>\n",
                            "      <td>0</td>\n",
                            "      <td>0</td>\n",
                            "      <td>0</td>\n",
                            "      <td>0</td>\n",
                            "      <td>1</td>\n",
                            "      <td>0</td>\n",
                            "      <td>1</td>\n",
                            "      <td>0</td>\n",
                            "      <td>0</td>\n",
                            "      <td>1</td>\n",
                            "      <td>0</td>\n",
                            "      <td>0</td>\n",
                            "      <td>0</td>\n",
                            "    </tr>\n",
                            "    <tr>\n",
                            "      <th>7</th>\n",
                            "      <td>1</td>\n",
                            "      <td>63.69</td>\n",
                            "      <td>1.12</td>\n",
                            "      <td>28.79</td>\n",
                            "      <td>3.66</td>\n",
                            "      <td>45</td>\n",
                            "      <td>0</td>\n",
                            "      <td>0</td>\n",
                            "      <td>0</td>\n",
                            "      <td>0</td>\n",
                            "      <td>0</td>\n",
                            "      <td>1</td>\n",
                            "      <td>0</td>\n",
                            "      <td>0</td>\n",
                            "      <td>1</td>\n",
                            "      <td>0</td>\n",
                            "      <td>0</td>\n",
                            "      <td>0</td>\n",
                            "      <td>1</td>\n",
                            "      <td>0</td>\n",
                            "      <td>0</td>\n",
                            "      <td>1</td>\n",
                            "      <td>0</td>\n",
                            "      <td>0</td>\n",
                            "    </tr>\n",
                            "    <tr>\n",
                            "      <th>8</th>\n",
                            "      <td>0</td>\n",
                            "      <td>63.69</td>\n",
                            "      <td>1.64</td>\n",
                            "      <td>26.42</td>\n",
                            "      <td>3.06</td>\n",
                            "      <td>70</td>\n",
                            "      <td>0</td>\n",
                            "      <td>0</td>\n",
                            "      <td>0</td>\n",
                            "      <td>0</td>\n",
                            "      <td>0</td>\n",
                            "      <td>1</td>\n",
                            "      <td>0</td>\n",
                            "      <td>0</td>\n",
                            "      <td>1</td>\n",
                            "      <td>0</td>\n",
                            "      <td>0</td>\n",
                            "      <td>1</td>\n",
                            "      <td>0</td>\n",
                            "      <td>1</td>\n",
                            "      <td>0</td>\n",
                            "      <td>0</td>\n",
                            "      <td>0</td>\n",
                            "      <td>0</td>\n",
                            "    </tr>\n",
                            "    <tr>\n",
                            "      <th>9</th>\n",
                            "      <td>1</td>\n",
                            "      <td>69.88</td>\n",
                            "      <td>0.14</td>\n",
                            "      <td>27.68</td>\n",
                            "      <td>10.89</td>\n",
                            "      <td>55</td>\n",
                            "      <td>1</td>\n",
                            "      <td>0</td>\n",
                            "      <td>0</td>\n",
                            "      <td>0</td>\n",
                            "      <td>0</td>\n",
                            "      <td>0</td>\n",
                            "      <td>0</td>\n",
                            "      <td>0</td>\n",
                            "      <td>0</td>\n",
                            "      <td>1</td>\n",
                            "      <td>0</td>\n",
                            "      <td>1</td>\n",
                            "      <td>0</td>\n",
                            "      <td>0</td>\n",
                            "      <td>1</td>\n",
                            "      <td>0</td>\n",
                            "      <td>0</td>\n",
                            "      <td>0</td>\n",
                            "    </tr>\n",
                            "    <tr>\n",
                            "      <th>10</th>\n",
                            "      <td>1</td>\n",
                            "      <td>104.03</td>\n",
                            "      <td>1.25</td>\n",
                            "      <td>26.16</td>\n",
                            "      <td>4.09</td>\n",
                            "      <td>45</td>\n",
                            "      <td>0</td>\n",
                            "      <td>0</td>\n",
                            "      <td>0</td>\n",
                            "      <td>0</td>\n",
                            "      <td>1</td>\n",
                            "      <td>0</td>\n",
                            "      <td>0</td>\n",
                            "      <td>0</td>\n",
                            "      <td>0</td>\n",
                            "      <td>1</td>\n",
                            "      <td>0</td>\n",
                            "      <td>1</td>\n",
                            "      <td>0</td>\n",
                            "      <td>0</td>\n",
                            "      <td>1</td>\n",
                            "      <td>0</td>\n",
                            "      <td>0</td>\n",
                            "      <td>0</td>\n",
                            "    </tr>\n",
                            "    <tr>\n",
                            "      <th>11</th>\n",
                            "      <td>1</td>\n",
                            "      <td>106.38</td>\n",
                            "      <td>2.45</td>\n",
                            "      <td>27.58</td>\n",
                            "      <td>6.16</td>\n",
                            "      <td>55</td>\n",
                            "      <td>0</td>\n",
                            "      <td>1</td>\n",
                            "      <td>0</td>\n",
                            "      <td>0</td>\n",
                            "      <td>0</td>\n",
                            "      <td>0</td>\n",
                            "      <td>0</td>\n",
                            "      <td>0</td>\n",
                            "      <td>0</td>\n",
                            "      <td>1</td>\n",
                            "      <td>0</td>\n",
                            "      <td>0</td>\n",
                            "      <td>1</td>\n",
                            "      <td>0</td>\n",
                            "      <td>1</td>\n",
                            "      <td>0</td>\n",
                            "      <td>0</td>\n",
                            "      <td>0</td>\n",
                            "    </tr>\n",
                            "    <tr>\n",
                            "      <th>12</th>\n",
                            "      <td>0</td>\n",
                            "      <td>635.68</td>\n",
                            "      <td>0.59</td>\n",
                            "      <td>23.50</td>\n",
                            "      <td>2.13</td>\n",
                            "      <td>55</td>\n",
                            "      <td>1</td>\n",
                            "      <td>0</td>\n",
                            "      <td>0</td>\n",
                            "      <td>0</td>\n",
                            "      <td>0</td>\n",
                            "      <td>0</td>\n",
                            "      <td>0</td>\n",
                            "      <td>0</td>\n",
                            "      <td>0</td>\n",
                            "      <td>1</td>\n",
                            "      <td>0</td>\n",
                            "      <td>1</td>\n",
                            "      <td>0</td>\n",
                            "      <td>0</td>\n",
                            "      <td>1</td>\n",
                            "      <td>0</td>\n",
                            "      <td>0</td>\n",
                            "      <td>0</td>\n",
                            "    </tr>\n",
                            "    <tr>\n",
                            "      <th>13</th>\n",
                            "      <td>0</td>\n",
                            "      <td>82.35</td>\n",
                            "      <td>5.97</td>\n",
                            "      <td>27.73</td>\n",
                            "      <td>4.53</td>\n",
                            "      <td>45</td>\n",
                            "      <td>0</td>\n",
                            "      <td>0</td>\n",
                            "      <td>1</td>\n",
                            "      <td>0</td>\n",
                            "      <td>0</td>\n",
                            "      <td>0</td>\n",
                            "      <td>0</td>\n",
                            "      <td>0</td>\n",
                            "      <td>0</td>\n",
                            "      <td>1</td>\n",
                            "      <td>0</td>\n",
                            "      <td>1</td>\n",
                            "      <td>0</td>\n",
                            "      <td>0</td>\n",
                            "      <td>1</td>\n",
                            "      <td>0</td>\n",
                            "      <td>0</td>\n",
                            "      <td>0</td>\n",
                            "    </tr>\n",
                            "    <tr>\n",
                            "      <th>14</th>\n",
                            "      <td>0</td>\n",
                            "      <td>67.56</td>\n",
                            "      <td>4.11</td>\n",
                            "      <td>28.61</td>\n",
                            "      <td>6.50</td>\n",
                            "      <td>55</td>\n",
                            "      <td>1</td>\n",
                            "      <td>0</td>\n",
                            "      <td>0</td>\n",
                            "      <td>0</td>\n",
                            "      <td>0</td>\n",
                            "      <td>0</td>\n",
                            "      <td>0</td>\n",
                            "      <td>0</td>\n",
                            "      <td>1</td>\n",
                            "      <td>0</td>\n",
                            "      <td>0</td>\n",
                            "      <td>0</td>\n",
                            "      <td>1</td>\n",
                            "      <td>0</td>\n",
                            "      <td>1</td>\n",
                            "      <td>0</td>\n",
                            "      <td>0</td>\n",
                            "      <td>0</td>\n",
                            "    </tr>\n",
                            "    <tr>\n",
                            "      <th>15</th>\n",
                            "      <td>1</td>\n",
                            "      <td>391.65</td>\n",
                            "      <td>0.73</td>\n",
                            "      <td>31.67</td>\n",
                            "      <td>3.96</td>\n",
                            "      <td>45</td>\n",
                            "      <td>0</td>\n",
                            "      <td>0</td>\n",
                            "      <td>0</td>\n",
                            "      <td>0</td>\n",
                            "      <td>0</td>\n",
                            "      <td>0</td>\n",
                            "      <td>0</td>\n",
                            "      <td>1</td>\n",
                            "      <td>1</td>\n",
                            "      <td>0</td>\n",
                            "      <td>0</td>\n",
                            "      <td>1</td>\n",
                            "      <td>0</td>\n",
                            "      <td>1</td>\n",
                            "      <td>0</td>\n",
                            "      <td>0</td>\n",
                            "      <td>0</td>\n",
                            "      <td>0</td>\n",
                            "    </tr>\n",
                            "    <tr>\n",
                            "      <th>16</th>\n",
                            "      <td>1</td>\n",
                            "      <td>111.78</td>\n",
                            "      <td>0.67</td>\n",
                            "      <td>24.57</td>\n",
                            "      <td>6.65</td>\n",
                            "      <td>45</td>\n",
                            "      <td>0</td>\n",
                            "      <td>0</td>\n",
                            "      <td>1</td>\n",
                            "      <td>0</td>\n",
                            "      <td>0</td>\n",
                            "      <td>0</td>\n",
                            "      <td>0</td>\n",
                            "      <td>0</td>\n",
                            "      <td>1</td>\n",
                            "      <td>0</td>\n",
                            "      <td>0</td>\n",
                            "      <td>1</td>\n",
                            "      <td>0</td>\n",
                            "      <td>0</td>\n",
                            "      <td>1</td>\n",
                            "      <td>0</td>\n",
                            "      <td>0</td>\n",
                            "      <td>0</td>\n",
                            "    </tr>\n",
                            "    <tr>\n",
                            "      <th>17</th>\n",
                            "      <td>0</td>\n",
                            "      <td>310.10</td>\n",
                            "      <td>0.38</td>\n",
                            "      <td>25.41</td>\n",
                            "      <td>1.82</td>\n",
                            "      <td>80</td>\n",
                            "      <td>1</td>\n",
                            "      <td>0</td>\n",
                            "      <td>0</td>\n",
                            "      <td>0</td>\n",
                            "      <td>0</td>\n",
                            "      <td>0</td>\n",
                            "      <td>0</td>\n",
                            "      <td>0</td>\n",
                            "      <td>1</td>\n",
                            "      <td>0</td>\n",
                            "      <td>0</td>\n",
                            "      <td>0</td>\n",
                            "      <td>1</td>\n",
                            "      <td>0</td>\n",
                            "      <td>1</td>\n",
                            "      <td>0</td>\n",
                            "      <td>0</td>\n",
                            "      <td>0</td>\n",
                            "    </tr>\n",
                            "    <tr>\n",
                            "      <th>18</th>\n",
                            "      <td>1</td>\n",
                            "      <td>295.00</td>\n",
                            "      <td>0.42</td>\n",
                            "      <td>29.03</td>\n",
                            "      <td>5.73</td>\n",
                            "      <td>45</td>\n",
                            "      <td>0</td>\n",
                            "      <td>0</td>\n",
                            "      <td>1</td>\n",
                            "      <td>0</td>\n",
                            "      <td>0</td>\n",
                            "      <td>0</td>\n",
                            "      <td>0</td>\n",
                            "      <td>0</td>\n",
                            "      <td>0</td>\n",
                            "      <td>1</td>\n",
                            "      <td>0</td>\n",
                            "      <td>1</td>\n",
                            "      <td>0</td>\n",
                            "      <td>0</td>\n",
                            "      <td>1</td>\n",
                            "      <td>0</td>\n",
                            "      <td>0</td>\n",
                            "      <td>0</td>\n",
                            "    </tr>\n",
                            "    <tr>\n",
                            "      <th>19</th>\n",
                            "      <td>1</td>\n",
                            "      <td>69.88</td>\n",
                            "      <td>2.92</td>\n",
                            "      <td>30.52</td>\n",
                            "      <td>5.96</td>\n",
                            "      <td>45</td>\n",
                            "      <td>0</td>\n",
                            "      <td>0</td>\n",
                            "      <td>0</td>\n",
                            "      <td>0</td>\n",
                            "      <td>1</td>\n",
                            "      <td>0</td>\n",
                            "      <td>0</td>\n",
                            "      <td>0</td>\n",
                            "      <td>1</td>\n",
                            "      <td>0</td>\n",
                            "      <td>0</td>\n",
                            "      <td>1</td>\n",
                            "      <td>0</td>\n",
                            "      <td>0</td>\n",
                            "      <td>1</td>\n",
                            "      <td>0</td>\n",
                            "      <td>0</td>\n",
                            "      <td>0</td>\n",
                            "    </tr>\n",
                            "  </tbody>\n",
                            "</table>\n",
                            "</div>"
                        ],
                        "text/plain": [
                            "    NUMACC  distance   rain  temperatur   wind  Speed  ROAD_TYPE_1  \\\n",
                            "0        1    174.60   2.22       27.82   3.80     45            0   \n",
                            "1        1    111.78   0.56       28.66   5.63     70            1   \n",
                            "2        1     92.26   2.50       27.84   7.13     45            0   \n",
                            "3        1     88.52   1.74       26.33   3.91     45            0   \n",
                            "4        0     67.56   3.58       27.01   3.63     80            1   \n",
                            "5        0     61.22  12.17       27.86   4.08     80            1   \n",
                            "6        1    334.34   1.70       28.97   3.29     45            0   \n",
                            "7        1     63.69   1.12       28.79   3.66     45            0   \n",
                            "8        0     63.69   1.64       26.42   3.06     70            0   \n",
                            "9        1     69.88   0.14       27.68  10.89     55            1   \n",
                            "10       1    104.03   1.25       26.16   4.09     45            0   \n",
                            "11       1    106.38   2.45       27.58   6.16     55            0   \n",
                            "12       0    635.68   0.59       23.50   2.13     55            1   \n",
                            "13       0     82.35   5.97       27.73   4.53     45            0   \n",
                            "14       0     67.56   4.11       28.61   6.50     55            1   \n",
                            "15       1    391.65   0.73       31.67   3.96     45            0   \n",
                            "16       1    111.78   0.67       24.57   6.65     45            0   \n",
                            "17       0    310.10   0.38       25.41   1.82     80            1   \n",
                            "18       1    295.00   0.42       29.03   5.73     45            0   \n",
                            "19       1     69.88   2.92       30.52   5.96     45            0   \n",
                            "\n",
                            "    ROAD_TYPE_2  ROAD_TYPE_3  ROAD_TYPE_5  ROAD_TYPE_6  ROAD_TYPE_7  \\\n",
                            "0             0            1            0            0            0   \n",
                            "1             0            0            0            0            0   \n",
                            "2             0            1            0            0            0   \n",
                            "3             0            1            0            0            0   \n",
                            "4             0            0            0            0            0   \n",
                            "5             0            0            0            0            0   \n",
                            "6             0            0            0            1            0   \n",
                            "7             0            0            0            0            1   \n",
                            "8             0            0            0            0            1   \n",
                            "9             0            0            0            0            0   \n",
                            "10            0            0            0            1            0   \n",
                            "11            1            0            0            0            0   \n",
                            "12            0            0            0            0            0   \n",
                            "13            0            1            0            0            0   \n",
                            "14            0            0            0            0            0   \n",
                            "15            0            0            0            0            0   \n",
                            "16            0            1            0            0            0   \n",
                            "17            0            0            0            0            0   \n",
                            "18            0            1            0            0            0   \n",
                            "19            0            0            0            1            0   \n",
                            "\n",
                            "    ROAD_TYPE_8  ROAD_TYPE_9  SURFACE_1  SURFACE_2  SURFACE_9  ONEWAY_0  \\\n",
                            "0             0            0          0          1          0         0   \n",
                            "1             0            0          1          0          0         1   \n",
                            "2             0            0          0          1          0         1   \n",
                            "3             0            0          0          1          0         0   \n",
                            "4             0            0          1          0          0         0   \n",
                            "5             0            0          1          0          0         0   \n",
                            "6             0            0          0          1          0         1   \n",
                            "7             0            0          1          0          0         0   \n",
                            "8             0            0          1          0          0         1   \n",
                            "9             0            0          0          1          0         1   \n",
                            "10            0            0          0          1          0         1   \n",
                            "11            0            0          0          1          0         0   \n",
                            "12            0            0          0          1          0         1   \n",
                            "13            0            0          0          1          0         1   \n",
                            "14            0            0          1          0          0         0   \n",
                            "15            0            1          1          0          0         1   \n",
                            "16            0            0          1          0          0         1   \n",
                            "17            0            0          1          0          0         0   \n",
                            "18            0            0          0          1          0         1   \n",
                            "19            0            0          1          0          0         1   \n",
                            "\n",
                            "    ONEWAY_1  LANE_1  LANE_2  LANE_3  LANE_4  LANE_6  \n",
                            "0          1       0       1       0       0       0  \n",
                            "1          0       0       1       0       0       0  \n",
                            "2          0       0       1       0       0       0  \n",
                            "3          1       0       1       0       0       0  \n",
                            "4          1       0       1       0       0       0  \n",
                            "5          1       0       1       0       0       0  \n",
                            "6          0       0       1       0       0       0  \n",
                            "7          1       0       0       1       0       0  \n",
                            "8          0       1       0       0       0       0  \n",
                            "9          0       0       1       0       0       0  \n",
                            "10         0       0       1       0       0       0  \n",
                            "11         1       0       1       0       0       0  \n",
                            "12         0       0       1       0       0       0  \n",
                            "13         0       0       1       0       0       0  \n",
                            "14         1       0       1       0       0       0  \n",
                            "15         0       1       0       0       0       0  \n",
                            "16         0       0       1       0       0       0  \n",
                            "17         1       0       1       0       0       0  \n",
                            "18         0       0       1       0       0       0  \n",
                            "19         0       0       1       0       0       0  "
                        ]
                    },
                    "metadata": {},
                    "execution_count": 4
                }
            ],
            "metadata": {}
        },
        {
            "cell_type": "code",
            "execution_count": null,
            "source": [],
            "outputs": [],
            "metadata": {}
        },
        {
            "cell_type": "markdown",
            "source": [],
            "metadata": {}
        },
        {
            "cell_type": "code",
            "execution_count": 5,
            "source": [
                "df['Speed'].astype('float')"
            ],
            "outputs": [
                {
                    "output_type": "execute_result",
                    "data": {
                        "text/plain": [
                            "0       45.0\n",
                            "1       70.0\n",
                            "2       45.0\n",
                            "3       45.0\n",
                            "4       80.0\n",
                            "        ... \n",
                            "1586    45.0\n",
                            "1587    80.0\n",
                            "1588    45.0\n",
                            "1589    45.0\n",
                            "1590    80.0\n",
                            "Name: Speed, Length: 1591, dtype: float64"
                        ]
                    },
                    "metadata": {},
                    "execution_count": 5
                }
            ],
            "metadata": {}
        },
        {
            "cell_type": "code",
            "execution_count": 6,
            "source": [
                "df\r\n",
                "float_feature_names =['distance','rain','temperatur','wind','Speed']\r\n",
                "\r\n",
                "float_features = df_cm.xs(float_feature_names,axis=1).values\r\n",
                "scaler = StandardScaler()\r\n",
                "float_scaled = scaler.fit_transform(float_features)\r\n",
                "print (float_features.mean(axis=0))\r\n",
                "\r\n",
                "with open('scalers.pkl','wb') as fp:\r\n",
                "    pickle.dump(scaler,fp)"
            ],
            "outputs": [
                {
                    "output_type": "stream",
                    "name": "stdout",
                    "text": [
                        "[173.26080453   2.34109994  26.88800126   4.2772973   51.71590195]\n"
                    ]
                }
            ],
            "metadata": {}
        },
        {
            "cell_type": "code",
            "execution_count": 7,
            "source": [
                "y = df['NUMACC'].values\r\n",
                "df_cm = df_cm.xs(float_feature_names+cm_feature_names,axis=1)"
            ],
            "outputs": [],
            "metadata": {}
        },
        {
            "cell_type": "code",
            "execution_count": 11,
            "source": [
                "X= df_cm.values\r\n",
                "y = df['NUMACC'].values\r\n",
                "feature_names = df_cm.columns.tolist()\r\n"
            ],
            "outputs": [],
            "metadata": {}
        },
        {
            "cell_type": "code",
            "execution_count": 9,
            "source": [
                "wrangler = {\r\n",
                "    'scaler': scaler,\r\n",
                "    'float_feature_names': float_feature_names,\r\n",
                "    'cm_fields': cm_field,\r\n",
                "    'feature_names': feature_names,\r\n",
                "   \r\n",
                "}\r\n",
                "with open('wrangler_new.pkl','wb') as fp:\r\n",
                "    pickle.dump(wrangler,fp)"
            ],
            "outputs": [],
            "metadata": {}
        },
        {
            "cell_type": "code",
            "execution_count": 12,
            "source": [
                "feature_sel = range(len(feature_names))\r\n",
                "#feature_sel = [-1,-2,-3]\r\n",
                "Xs = X[:,feature_sel]\r\n",
                "print(Xs)\r\n",
                "X_train, X_test, y_train, y_test = train_test_split(Xs, y, test_size=0.1)#, random_state=2)\r\n",
                "fnames = np.array(feature_names)[feature_sel]\r\n",
                "\r\n",
                "dtrain = xgboost.DMatrix(X_train,label=y_train,feature_names=fnames)\r\n",
                "dtest =  xgboost.DMatrix(X_test,label=y_test,feature_names=fnames)\r\n",
                "\r\n",
                "\r\n",
                "params = {\r\n",
                "    'max_depth':6,\r\n",
                "    'min_child_weight': 5.0,\r\n",
                "    'reg_lambda': 1.0,\r\n",
                "    'reg_alpha':0.0,\r\n",
                "    'scale_pos_weight':1.0,\r\n",
                "    'eval_metric':'auc',\r\n",
                "    'objective':'binary:logistic',\r\n",
                "    'eta':0.5\r\n",
                "}"
            ],
            "outputs": [
                {
                    "output_type": "stream",
                    "name": "stdout",
                    "text": [
                        "[[1.7460e+02 2.2200e+00 2.7820e+01 ... 0.0000e+00 0.0000e+00 0.0000e+00]\n",
                        " [1.1178e+02 5.6000e-01 2.8660e+01 ... 0.0000e+00 0.0000e+00 0.0000e+00]\n",
                        " [9.2260e+01 2.5000e+00 2.7840e+01 ... 0.0000e+00 0.0000e+00 0.0000e+00]\n",
                        " ...\n",
                        " [1.5240e+02 1.2900e+00 2.5560e+01 ... 0.0000e+00 1.0000e+00 0.0000e+00]\n",
                        " [3.8600e+01 1.7000e-01 2.9240e+01 ... 1.0000e+00 0.0000e+00 0.0000e+00]\n",
                        " [5.2770e+01 1.0400e+00 2.8560e+01 ... 0.0000e+00 0.0000e+00 0.0000e+00]]\n"
                    ]
                }
            ],
            "metadata": {}
        },
        {
            "cell_type": "code",
            "execution_count": 13,
            "source": [
                "booster = xgboost.train(params,dtrain,\r\n",
                "    evals = [(dtest, 'eval')],\r\n",
                "    num_boost_round=3000,\r\n",
                "    early_stopping_rounds=25\r\n",
                ")"
            ],
            "outputs": [
                {
                    "output_type": "stream",
                    "name": "stdout",
                    "text": [
                        "[0]\teval-auc:0.73673\n",
                        "[1]\teval-auc:0.78558\n",
                        "[2]\teval-auc:0.79809\n",
                        "[3]\teval-auc:0.81575\n",
                        "[4]\teval-auc:0.82987\n",
                        "[5]\teval-auc:0.83367\n",
                        "[6]\teval-auc:0.84297\n",
                        "[7]\teval-auc:0.84770\n",
                        "[8]\teval-auc:0.84703\n",
                        "[9]\teval-auc:0.86055\n",
                        "[10]\teval-auc:0.86224\n",
                        "[11]\teval-auc:0.86376\n",
                        "[12]\teval-auc:0.86427\n",
                        "[13]\teval-auc:0.87475\n",
                        "[14]\teval-auc:0.88320\n",
                        "[15]\teval-auc:0.89097\n",
                        "[16]\teval-auc:0.89300\n",
                        "[17]\teval-auc:0.90145\n",
                        "[18]\teval-auc:0.90483\n",
                        "[19]\teval-auc:0.91007\n",
                        "[20]\teval-auc:0.90974\n",
                        "[21]\teval-auc:0.90788\n",
                        "[22]\teval-auc:0.91075\n",
                        "[23]\teval-auc:0.91971\n",
                        "[24]\teval-auc:0.91870\n",
                        "[25]\teval-auc:0.92309\n",
                        "[26]\teval-auc:0.92140\n",
                        "[27]\teval-auc:0.91785\n",
                        "[28]\teval-auc:0.92089\n",
                        "[29]\teval-auc:0.91870\n",
                        "[30]\teval-auc:0.92174\n",
                        "[31]\teval-auc:0.92022\n",
                        "[32]\teval-auc:0.92208\n",
                        "[33]\teval-auc:0.92495\n",
                        "[34]\teval-auc:0.92698\n",
                        "[35]\teval-auc:0.92934\n",
                        "[36]\teval-auc:0.93019\n",
                        "[37]\teval-auc:0.93289\n",
                        "[38]\teval-auc:0.93087\n",
                        "[39]\teval-auc:0.93036\n",
                        "[40]\teval-auc:0.93103\n",
                        "[41]\teval-auc:0.93273\n",
                        "[42]\teval-auc:0.93188\n",
                        "[43]\teval-auc:0.93408\n",
                        "[44]\teval-auc:0.93560\n",
                        "[45]\teval-auc:0.93323\n",
                        "[46]\teval-auc:0.93340\n",
                        "[47]\teval-auc:0.93002\n",
                        "[48]\teval-auc:0.92749\n",
                        "[49]\teval-auc:0.92951\n",
                        "[50]\teval-auc:0.92749\n",
                        "[51]\teval-auc:0.93019\n",
                        "[52]\teval-auc:0.92765\n",
                        "[53]\teval-auc:0.92917\n",
                        "[54]\teval-auc:0.92867\n",
                        "[55]\teval-auc:0.92884\n",
                        "[56]\teval-auc:0.92985\n",
                        "[57]\teval-auc:0.92917\n",
                        "[58]\teval-auc:0.93019\n",
                        "[59]\teval-auc:0.92917\n",
                        "[60]\teval-auc:0.93053\n",
                        "[61]\teval-auc:0.93103\n",
                        "[62]\teval-auc:0.93171\n",
                        "[63]\teval-auc:0.93103\n",
                        "[64]\teval-auc:0.93154\n",
                        "[65]\teval-auc:0.93205\n",
                        "[66]\teval-auc:0.93289\n",
                        "[67]\teval-auc:0.93458\n",
                        "[68]\teval-auc:0.93847\n",
                        "[69]\teval-auc:0.93982\n",
                        "[70]\teval-auc:0.93932\n",
                        "[71]\teval-auc:0.93847\n",
                        "[72]\teval-auc:0.93881\n",
                        "[73]\teval-auc:0.93898\n",
                        "[74]\teval-auc:0.94101\n",
                        "[75]\teval-auc:0.94033\n",
                        "[76]\teval-auc:0.93864\n",
                        "[77]\teval-auc:0.93864\n",
                        "[78]\teval-auc:0.94101\n",
                        "[79]\teval-auc:0.94033\n",
                        "[80]\teval-auc:0.94118\n",
                        "[81]\teval-auc:0.93982\n",
                        "[82]\teval-auc:0.93999\n",
                        "[83]\teval-auc:0.93966\n",
                        "[84]\teval-auc:0.94016\n",
                        "[85]\teval-auc:0.93949\n",
                        "[86]\teval-auc:0.93780\n",
                        "[87]\teval-auc:0.93864\n",
                        "[88]\teval-auc:0.93847\n",
                        "[89]\teval-auc:0.94016\n",
                        "[90]\teval-auc:0.94016\n",
                        "[91]\teval-auc:0.93898\n",
                        "[92]\teval-auc:0.94101\n",
                        "[93]\teval-auc:0.94016\n",
                        "[94]\teval-auc:0.93966\n",
                        "[95]\teval-auc:0.94084\n",
                        "[96]\teval-auc:0.94118\n",
                        "[97]\teval-auc:0.93982\n",
                        "[98]\teval-auc:0.93966\n",
                        "[99]\teval-auc:0.93881\n",
                        "[100]\teval-auc:0.93864\n",
                        "[101]\teval-auc:0.93712\n",
                        "[102]\teval-auc:0.93763\n",
                        "[103]\teval-auc:0.93678\n",
                        "[104]\teval-auc:0.93847\n",
                        "[105]\teval-auc:0.93797\n"
                    ]
                }
            ],
            "metadata": {}
        },
        {
            "cell_type": "code",
            "execution_count": 24,
            "source": [
                "\r\n",
                "newdata = r\"E:\\StudyLAB\\1_2564\\499\\dataset\\newdata.csv\"\r\n",
                "df2 = pd.read_csv(\"demofile2_tem.csv\")\r\n",
                "df2 = df2.dropna(how='any',axis=0)\r\n",
                "df2.head()\r\n"
            ],
            "outputs": [
                {
                    "output_type": "execute_result",
                    "data": {
                        "text/html": [
                            "<div>\n",
                            "<style scoped>\n",
                            "    .dataframe tbody tr th:only-of-type {\n",
                            "        vertical-align: middle;\n",
                            "    }\n",
                            "\n",
                            "    .dataframe tbody tr th {\n",
                            "        vertical-align: top;\n",
                            "    }\n",
                            "\n",
                            "    .dataframe thead th {\n",
                            "        text-align: right;\n",
                            "    }\n",
                            "</style>\n",
                            "<table border=\"1\" class=\"dataframe\">\n",
                            "  <thead>\n",
                            "    <tr style=\"text-align: right;\">\n",
                            "      <th></th>\n",
                            "      <th>distance</th>\n",
                            "      <th>rain</th>\n",
                            "      <th>temperatur</th>\n",
                            "      <th>wind</th>\n",
                            "      <th>Speed</th>\n",
                            "      <th>ROAD_TYPE_1</th>\n",
                            "      <th>ROAD_TYPE_2</th>\n",
                            "      <th>ROAD_TYPE_3</th>\n",
                            "      <th>ROAD_TYPE_5</th>\n",
                            "      <th>ROAD_TYPE_6</th>\n",
                            "      <th>ROAD_TYPE_7</th>\n",
                            "      <th>ROAD_TYPE_8</th>\n",
                            "      <th>ROAD_TYPE_9</th>\n",
                            "      <th>SURFACE_1</th>\n",
                            "      <th>SURFACE_2</th>\n",
                            "      <th>SURFACE_9</th>\n",
                            "      <th>ONEWAY_0</th>\n",
                            "      <th>ONEWAY_1</th>\n",
                            "      <th>LANE_1</th>\n",
                            "      <th>LANE_2</th>\n",
                            "      <th>LANE_3</th>\n",
                            "      <th>LANE_4</th>\n",
                            "      <th>LANE_6</th>\n",
                            "    </tr>\n",
                            "  </thead>\n",
                            "  <tbody>\n",
                            "    <tr>\n",
                            "      <th>0</th>\n",
                            "      <td>31.66</td>\n",
                            "      <td>4.11</td>\n",
                            "      <td>26.12</td>\n",
                            "      <td>4.18</td>\n",
                            "      <td>80</td>\n",
                            "      <td>1</td>\n",
                            "      <td>0</td>\n",
                            "      <td>0</td>\n",
                            "      <td>0</td>\n",
                            "      <td>0</td>\n",
                            "      <td>0</td>\n",
                            "      <td>0</td>\n",
                            "      <td>0</td>\n",
                            "      <td>1</td>\n",
                            "      <td>0</td>\n",
                            "      <td>0</td>\n",
                            "      <td>0</td>\n",
                            "      <td>1</td>\n",
                            "      <td>0</td>\n",
                            "      <td>0</td>\n",
                            "      <td>1</td>\n",
                            "      <td>0</td>\n",
                            "      <td>0</td>\n",
                            "    </tr>\n",
                            "    <tr>\n",
                            "      <th>1</th>\n",
                            "      <td>84.61</td>\n",
                            "      <td>0.70</td>\n",
                            "      <td>26.64</td>\n",
                            "      <td>3.33</td>\n",
                            "      <td>45</td>\n",
                            "      <td>0</td>\n",
                            "      <td>0</td>\n",
                            "      <td>0</td>\n",
                            "      <td>0</td>\n",
                            "      <td>1</td>\n",
                            "      <td>0</td>\n",
                            "      <td>0</td>\n",
                            "      <td>0</td>\n",
                            "      <td>1</td>\n",
                            "      <td>0</td>\n",
                            "      <td>0</td>\n",
                            "      <td>1</td>\n",
                            "      <td>0</td>\n",
                            "      <td>0</td>\n",
                            "      <td>1</td>\n",
                            "      <td>0</td>\n",
                            "      <td>0</td>\n",
                            "      <td>0</td>\n",
                            "    </tr>\n",
                            "  </tbody>\n",
                            "</table>\n",
                            "</div>"
                        ],
                        "text/plain": [
                            "   distance  rain  temperatur  wind  Speed  ROAD_TYPE_1  ROAD_TYPE_2  \\\n",
                            "0     31.66  4.11       26.12  4.18     80            1            0   \n",
                            "1     84.61  0.70       26.64  3.33     45            0            0   \n",
                            "\n",
                            "   ROAD_TYPE_3  ROAD_TYPE_5  ROAD_TYPE_6  ROAD_TYPE_7  ROAD_TYPE_8  \\\n",
                            "0            0            0            0            0            0   \n",
                            "1            0            0            1            0            0   \n",
                            "\n",
                            "   ROAD_TYPE_9  SURFACE_1  SURFACE_2  SURFACE_9  ONEWAY_0  ONEWAY_1  LANE_1  \\\n",
                            "0            0          1          0          0         0         1       0   \n",
                            "1            0          1          0          0         1         0       0   \n",
                            "\n",
                            "   LANE_2  LANE_3  LANE_4  LANE_6  \n",
                            "0       0       1       0       0  \n",
                            "1       1       0       0       0  "
                        ]
                    },
                    "metadata": {},
                    "execution_count": 24
                }
            ],
            "metadata": {}
        },
        {
            "cell_type": "code",
            "execution_count": 25,
            "source": [
                "feature_sel = range(len(feature_names))\r\n",
                "#feature_sel = [-1,-2,-3]\r\n",
                "Xs = X[:,feature_sel]\r\n",
                "fnames = np.array(feature_names)[feature_sel]\r\n",
                "ddata = xgboost.DMatrix(df2,feature_names=fnames)\r\n",
                "print(ddata)\r\n"
            ],
            "outputs": [
                {
                    "output_type": "stream",
                    "name": "stdout",
                    "text": [
                        "<xgboost.core.DMatrix object at 0x000001B8DAE52670>\n"
                    ]
                }
            ],
            "metadata": {}
        },
        {
            "cell_type": "code",
            "execution_count": 26,
            "source": [
                "booster.predict(ddata)\r\n"
            ],
            "outputs": [
                {
                    "output_type": "execute_result",
                    "data": {
                        "text/plain": [
                            "array([0.98561084, 0.99397415], dtype=float32)"
                        ]
                    },
                    "metadata": {},
                    "execution_count": 26
                }
            ],
            "metadata": {}
        },
        {
            "cell_type": "code",
            "execution_count": null,
            "source": [
                "kfold = KFold(n_splits=10)\r\n",
                "results = cross_val_score(booster, X_train, y_train, cv=kfold)\r\n",
                "y_test_pred = booster.predict(X_test)\r\n",
                "\r\n",
                "mse = mean_squared_error(y_test_pred, y_test)\r\n",
                "\r\n",
                "y_pred = booster.predict(X_test)"
            ],
            "outputs": [],
            "metadata": {}
        },
        {
            "cell_type": "code",
            "execution_count": 42,
            "source": [
                "pred=booster.predict(dtest)\r\n",
                "# Rs = r2_score(y_test, pred)\r\n",
                "rmse=np.sqrt(mean_squared_error(y_test,pred))\r\n",
                "# print('The R-squared is {:.4}'.format(Rs))\r\n",
                "print('The root mean squared is {:.4}'.format(rmse))\r\n"
            ],
            "outputs": [
                {
                    "output_type": "stream",
                    "name": "stdout",
                    "text": [
                        "The root mean squared is 0.2688\n"
                    ]
                }
            ],
            "metadata": {}
        },
        {
            "cell_type": "code",
            "execution_count": null,
            "source": [
                "print(fnames)"
            ],
            "outputs": [
                {
                    "output_type": "stream",
                    "name": "stdout",
                    "text": [
                        "['distance' 'rain' 'temperatur' 'wind' 'Speed' 'ROAD_TYPE_1' 'ROAD_TYPE_2'\n",
                        " 'ROAD_TYPE_3' 'ROAD_TYPE_5' 'ROAD_TYPE_6' 'ROAD_TYPE_7' 'ROAD_TYPE_8'\n",
                        " 'ROAD_TYPE_9' 'SURFACE_1' 'SURFACE_2' 'SURFACE_9' 'ONEWAY_0' 'ONEWAY_1'\n",
                        " 'LANE_1' 'LANE_2' 'LANE_3' 'LANE_4' 'LANE_6']\n"
                    ]
                }
            ],
            "metadata": {}
        },
        {
            "cell_type": "code",
            "execution_count": null,
            "source": [
                "plt.figure(figsize=(15,15))\r\n",
                "xgboost.plot_importance(booster,ax=plt.gca(),importance_type='weight')"
            ],
            "outputs": [
                {
                    "output_type": "execute_result",
                    "data": {
                        "text/plain": [
                            "<AxesSubplot:title={'center':'Feature importance'}, xlabel='F score', ylabel='Features'>"
                        ]
                    },
                    "metadata": {},
                    "execution_count": 32
                },
                {
                    "output_type": "display_data",
                    "data": {
                        "image/png": "[encoded data removed]",
                        "text/plain": [
                            "<Figure size 1080x1080 with 1 Axes>"
                        ]
                    },
                    "metadata": {
                        "needs_background": "light"
                    }
                }
            ],
            "metadata": {}
        },
        {
            "cell_type": "code",
            "execution_count": null,
            "source": [
                "booster.save_model('new_0001.model')"
            ],
            "outputs": [],
            "metadata": {}
        },
        {
            "cell_type": "code",
            "execution_count": null,
            "source": [
                "booster.predict(dtest)"
            ],
            "outputs": [
                {
                    "output_type": "execute_result",
                    "data": {
                        "text/plain": [
                            "array([0.00585669, 0.97869337, 0.9447473 , 0.04938242, 0.9953969 ,\n",
                            "       0.97753704, 0.999108  , 0.00193452, 0.04732576, 0.9999151 ,\n",
                            "       0.4282841 , 0.9862136 , 0.17129347, 0.9385307 , 0.86276907,\n",
                            "       0.99691856, 0.93691087, 0.81661147, 0.6961373 , 0.58045226,\n",
                            "       0.9836572 , 0.97724   , 0.5827386 , 0.03787158, 0.01063497,\n",
                            "       0.9898673 , 0.8135611 , 0.9944108 , 0.96464056, 0.85678333,\n",
                            "       0.9984617 , 0.87502533, 0.99977785, 0.9972174 , 0.99136955,\n",
                            "       0.9583154 , 0.00151901, 0.7285837 , 0.01325481, 0.18595076,\n",
                            "       0.1838924 , 0.99491346, 0.83261824, 0.9994547 , 0.1250883 ,\n",
                            "       0.92531073, 0.5567917 , 0.99745196, 0.0605216 , 0.98450965,\n",
                            "       0.5808486 , 0.03014101, 0.9950872 , 0.993697  , 0.99325645,\n",
                            "       0.967172  , 0.00137157, 0.9813256 , 0.99468356, 0.00600797,\n",
                            "       0.9696434 , 0.95876884, 0.9819313 , 0.7866076 , 0.36311308,\n",
                            "       0.94708985, 0.9804786 , 0.5122657 , 0.99491787, 0.98632044,\n",
                            "       0.25819454, 0.99504185, 0.98716974, 0.9822557 , 0.9951631 ,\n",
                            "       0.98579574, 0.99429226, 0.9941347 , 0.9847862 , 0.99664044,\n",
                            "       0.1111361 , 0.9987129 , 0.9948697 , 0.98630685, 0.9906955 ,\n",
                            "       0.99832886, 0.1819941 , 0.978128  , 0.9760607 , 0.99795216,\n",
                            "       0.08887296, 0.9822557 , 0.84768647, 0.9819313 , 0.9806953 ,\n",
                            "       0.99737203, 0.9974005 , 0.9988464 , 0.02570331, 0.0360584 ,\n",
                            "       0.08056112, 0.99626154, 0.9931797 , 0.99937505, 0.9859483 ,\n",
                            "       0.95991194, 0.7394354 , 0.97864026, 0.23325564, 0.9214327 ,\n",
                            "       0.9986958 , 0.9950068 , 0.99982303, 0.9802207 , 0.7476347 ,\n",
                            "       0.9440357 , 0.54592854, 0.98102427, 0.99353164, 0.99607193,\n",
                            "       0.0762108 , 0.9806244 , 0.02499309, 0.02680973, 0.9904902 ,\n",
                            "       0.17129347, 0.00151901, 0.964786  , 0.8956462 , 0.9625147 ,\n",
                            "       0.98791623, 0.9991573 , 0.96021795, 0.9610192 , 0.07854165,\n",
                            "       0.01810106, 0.00476915, 0.98661697, 0.06284617, 0.1838924 ,\n",
                            "       0.9898673 , 0.96312046, 0.05882451, 0.98747265, 0.00162816,\n",
                            "       0.9989079 , 0.9990927 , 0.9423126 , 0.01100469, 0.9988464 ,\n",
                            "       0.9985366 , 0.97753704, 0.99795216, 0.95390964, 0.31070966,\n",
                            "       0.9692281 , 0.4144584 , 0.9950872 , 0.998971  , 0.0417203 ],\n",
                            "      dtype=float32)"
                        ]
                    },
                    "metadata": {},
                    "execution_count": 95
                }
            ],
            "metadata": {}
        },
        {
            "cell_type": "code",
            "execution_count": null,
            "source": [
                "y_pred_test = booster.predict(dtest)\r\n",
                "\r\n",
                "\r\n",
                "fpr, tpr, thresholds = roc_curve(y_test,y_pred_test)\r\n",
                "\r\n",
                "y_pred_train = booster.predict(dtrain)\r\n",
                "fpr_train, tpr_train, thresholds_train = roc_curve(y_train,y_pred_train)\r\n",
                "fig,ax = plt.subplots()\r\n",
                "plt.plot([0,1],[0,1],'r-',label='Random Guess',color='orange',lw=3)\r\n",
                "plt.plot(fpr,tpr,label='ROC (Test)',lw=3)\r\n",
                "plt.plot(fpr_train,tpr_train,'r:',label='ROC (Train)',color='steelblue',lw=3)\r\n",
                "plt.grid()\r\n",
                "plt.xlabel('False Positive Rate')\r\n",
                "plt.ylabel('True Positive Rate')\r\n",
                "plt.legend()"
            ],
            "outputs": [
                {
                    "output_type": "stream",
                    "name": "stdout",
                    "text": [
                        "[4.5569692e-02 9.8768139e-01 9.6977770e-01 2.1583419e-02 9.9725831e-01\n",
                        " 9.9361551e-01 9.9874520e-01 5.7106488e-03 4.9746845e-02 9.9855989e-01\n",
                        " 6.1066911e-02 9.9767786e-01 4.2117342e-02 9.6488881e-01 9.3893260e-01\n",
                        " 9.9299991e-01 9.6381152e-01 8.9881068e-01 9.8117948e-02 9.4191653e-01\n",
                        " 9.8974282e-01 9.7990775e-01 7.6018654e-02 8.0580842e-03 1.2820231e-02\n",
                        " 9.8784500e-01 9.2395312e-01 9.8860478e-01 9.5249045e-01 2.2638947e-01\n",
                        " 9.9953914e-01 9.6844250e-01 9.9963844e-01 9.9759549e-01 9.8330933e-01\n",
                        " 6.2734038e-02 6.2698364e-04 1.0611326e-01 1.5692141e-02 6.4724043e-02\n",
                        " 5.3000309e-02 9.9182242e-01 9.3733948e-01 9.9979800e-01 2.7272860e-02\n",
                        " 9.7741222e-01 9.3273437e-01 9.9798620e-01 5.8232807e-02 9.9673909e-01\n",
                        " 1.6406852e-01 2.3976777e-02 9.9876261e-01 9.9236685e-01 9.9823952e-01\n",
                        " 9.8031163e-01 8.9391309e-04 9.7540671e-01 9.9700111e-01 2.6314224e-03\n",
                        " 9.8462969e-01 9.8352122e-01 9.8469156e-01 9.7319061e-01 2.8961346e-01\n",
                        " 9.3523592e-01 9.7690374e-01 9.4754434e-01 9.9891281e-01 9.8059344e-01\n",
                        " 2.8996962e-01 9.9859017e-01 9.9240828e-01 9.9048841e-01 9.9822003e-01\n",
                        " 9.9780875e-01 9.9380672e-01 9.9702901e-01 9.9280941e-01 9.9719113e-01\n",
                        " 7.0248783e-02 9.9795723e-01 9.9452126e-01 9.9439949e-01 9.9759871e-01\n",
                        " 9.9746788e-01 5.5593234e-02 9.8836786e-01 9.8855418e-01 9.8654699e-01\n",
                        " 8.4090069e-02 9.9048841e-01 9.4506037e-01 9.8469156e-01 9.9094886e-01\n",
                        " 9.9988616e-01 9.9719244e-01 9.9908960e-01 1.2551018e-02 2.6235517e-02\n",
                        " 3.7519380e-02 9.9889332e-01 9.8760206e-01 9.9757820e-01 9.9307585e-01\n",
                        " 1.2651253e-01 9.0054113e-01 9.8971200e-01 9.9864058e-02 9.9337137e-01\n",
                        " 9.9855477e-01 2.2671776e-01 9.9988604e-01 9.7802085e-01 5.9193134e-01\n",
                        " 9.9582785e-01 9.4904071e-01 9.5552486e-01 9.9829346e-01 9.9775034e-01\n",
                        " 8.2232767e-01 9.7760165e-01 1.5815467e-02 3.3824604e-02 9.8620057e-01\n",
                        " 4.2117342e-02 6.2698364e-04 9.8208493e-01 9.6513015e-01 9.9137843e-01\n",
                        " 9.9455088e-01 9.9984860e-01 9.9524826e-01 1.0696034e-01 2.6291128e-02\n",
                        " 1.0626531e-02 2.7492309e-03 9.9037522e-01 1.2526681e-02 5.3000309e-02\n",
                        " 9.8784500e-01 9.8272389e-01 4.1149653e-02 9.8964590e-01 6.3917134e-04\n",
                        " 9.9288028e-01 9.9901140e-01 9.7118104e-01 2.6391454e-03 9.9908960e-01\n",
                        " 9.9988532e-01 9.9361551e-01 9.8654699e-01 9.7210544e-01 9.2472844e-02\n",
                        " 2.4337433e-01 9.5876139e-01 9.9876261e-01 9.9884582e-01 8.2569331e-01]\n"
                    ]
                },
                {
                    "output_type": "stream",
                    "name": "stderr",
                    "text": [
                        "C:\\Users\\Baannana\\AppData\\Local\\Temp/ipykernel_2704/2246973727.py:9: UserWarning: color is redundantly defined by the 'color' keyword argument and the fmt string \"r-\" (-> color='r'). The keyword argument will take precedence.\n",
                        "  plt.plot([0,1],[0,1],'r-',label='Random Guess',color='orange',lw=3)\n",
                        "C:\\Users\\Baannana\\AppData\\Local\\Temp/ipykernel_2704/2246973727.py:11: UserWarning: color is redundantly defined by the 'color' keyword argument and the fmt string \"r:\" (-> color='r'). The keyword argument will take precedence.\n",
                        "  plt.plot(fpr_train,tpr_train,'r:',label='ROC (Train)',color='steelblue',lw=3)\n"
                    ]
                },
                {
                    "output_type": "execute_result",
                    "data": {
                        "text/plain": [
                            "<matplotlib.legend.Legend at 0x2551cf7f8e0>"
                        ]
                    },
                    "metadata": {},
                    "execution_count": 85
                },
                {
                    "output_type": "display_data",
                    "data": {
                        "image/png": "[encoded data removed]",
                        "text/plain": [
                            "<Figure size 432x288 with 1 Axes>"
                        ]
                    },
                    "metadata": {
                        "needs_background": "light"
                    }
                }
            ],
            "metadata": {}
        },
        {
            "cell_type": "code",
            "execution_count": null,
            "source": [
                "\r\n",
                "plt.plot(thresholds,tpr,'r-',label='TPR (Test)',color='orange',lw=3)\r\n",
                "plt.plot(thresholds_train,tpr_train,'r:',label='TPR (Train',color='orange',lw=3)\r\n",
                "plt.plot(thresholds,fpr,'r-',label='FPR (Test)',color='steelblue',lw=3)\r\n",
                "plt.plot(thresholds_train,fpr_train,'r:',label='FPR (Train)',color='steelblue',lw=3)\r\n",
                "plt.gca().set_xbound(lower=0,upper=1)\r\n",
                "plt.xlabel('Threshold')\r\n",
                "plt.ylabel('True/False Positive Rate')\r\n",
                "plt.legend()"
            ],
            "outputs": [
                {
                    "output_type": "stream",
                    "name": "stderr",
                    "text": [
                        "C:\\Users\\Baannana\\AppData\\Local\\Temp/ipykernel_2704/1872685969.py:1: UserWarning: color is redundantly defined by the 'color' keyword argument and the fmt string \"r-\" (-> color='r'). The keyword argument will take precedence.\n",
                        "  plt.plot(thresholds,tpr,'r-',label='TPR (Test)',color='orange',lw=3)\n",
                        "C:\\Users\\Baannana\\AppData\\Local\\Temp/ipykernel_2704/1872685969.py:2: UserWarning: color is redundantly defined by the 'color' keyword argument and the fmt string \"r:\" (-> color='r'). The keyword argument will take precedence.\n",
                        "  plt.plot(thresholds_train,tpr_train,'r:',label='TPR (Train',color='orange',lw=3)\n",
                        "C:\\Users\\Baannana\\AppData\\Local\\Temp/ipykernel_2704/1872685969.py:3: UserWarning: color is redundantly defined by the 'color' keyword argument and the fmt string \"r-\" (-> color='r'). The keyword argument will take precedence.\n",
                        "  plt.plot(thresholds,fpr,'r-',label='FPR (Test)',color='steelblue',lw=3)\n",
                        "C:\\Users\\Baannana\\AppData\\Local\\Temp/ipykernel_2704/1872685969.py:4: UserWarning: color is redundantly defined by the 'color' keyword argument and the fmt string \"r:\" (-> color='r'). The keyword argument will take precedence.\n",
                        "  plt.plot(thresholds_train,fpr_train,'r:',label='FPR (Train)',color='steelblue',lw=3)\n"
                    ]
                },
                {
                    "output_type": "execute_result",
                    "data": {
                        "text/plain": [
                            "<matplotlib.legend.Legend at 0x2551c27b310>"
                        ]
                    },
                    "metadata": {},
                    "execution_count": 35
                },
                {
                    "output_type": "display_data",
                    "data": {
                        "image/png": "[encoded data removed]",
                        "text/plain": [
                            "<Figure size 432x288 with 1 Axes>"
                        ]
                    },
                    "metadata": {
                        "needs_background": "light"
                    }
                }
            ],
            "metadata": {}
        },
        {
            "cell_type": "code",
            "execution_count": null,
            "source": [
                "\r\n",
                "plt.figure(figsize=(15,15))\r\n",
                "\r\n",
                "y_pred_test = booster.predict(dtest)\r\n",
                "y_pred_train = booster.predict(dtrain)\r\n",
                "\r\n",
                "precision,recall,thresholds = precision_recall_curve(y_test,y_pred_test)\r\n",
                "precision_train, recall_train, thresholds_train = precision_recall_curve(y_train,y_pred_train)\r\n",
                "fig,ax = plt.subplots()\r\n",
                "plt.plot(precision,recall,label='PR (Test)',lw=3)\r\n",
                "plt.plot(precision_train,recall_train,label='PR (Train)',lw=3)\r\n",
                "plt.xlabel('Precision')\r\n",
                "plt.ylabel('Recall')\r\n",
                "plt.grid()\r\n",
                "plt.legend()\r\n",
                "plt.matplotlib.__version__"
            ],
            "outputs": [
                {
                    "output_type": "execute_result",
                    "data": {
                        "text/plain": [
                            "'3.4.0'"
                        ]
                    },
                    "metadata": {},
                    "execution_count": 36
                },
                {
                    "output_type": "display_data",
                    "data": {
                        "text/plain": [
                            "<Figure size 1080x1080 with 0 Axes>"
                        ]
                    },
                    "metadata": {}
                },
                {
                    "output_type": "display_data",
                    "data": {
                        "image/png": "[encoded data removed]",
                        "text/plain": [
                            "<Figure size 432x288 with 1 Axes>"
                        ]
                    },
                    "metadata": {
                        "needs_background": "light"
                    }
                }
            ],
            "metadata": {}
        },
        {
            "cell_type": "code",
            "execution_count": null,
            "source": [
                "plt.plot(thresholds,precision[:-1],'r-',label='P (Test)',color='orange',lw=3)\r\n",
                "plt.plot(thresholds_train,precision_train[:-1],'r:',label='P (Train',color='orange',lw=3)\r\n",
                "plt.plot(thresholds,recall[:-1],'r-',label='R (Test)',color='steelblue',lw=3)\r\n",
                "plt.plot(thresholds_train,recall_train[:-1],'r:',label='R (Train)',color='steelblue',lw=3)\r\n",
                "#plt.plot([0,1],[0,1],'k-',lw=2)\r\n",
                "plt.gca().set_xbound(lower=0,upper=1)\r\n",
                "plt.xlabel('Threshold')\r\n",
                "plt.ylabel('Precision/Recall')\r\n",
                "plt.legend()"
            ],
            "outputs": [
                {
                    "output_type": "stream",
                    "name": "stderr",
                    "text": [
                        "C:\\Users\\Baannana\\AppData\\Local\\Temp/ipykernel_2704/1391377442.py:1: UserWarning: color is redundantly defined by the 'color' keyword argument and the fmt string \"r-\" (-> color='r'). The keyword argument will take precedence.\n",
                        "  plt.plot(thresholds,precision[:-1],'r-',label='P (Test)',color='orange',lw=3)\n",
                        "C:\\Users\\Baannana\\AppData\\Local\\Temp/ipykernel_2704/1391377442.py:2: UserWarning: color is redundantly defined by the 'color' keyword argument and the fmt string \"r:\" (-> color='r'). The keyword argument will take precedence.\n",
                        "  plt.plot(thresholds_train,precision_train[:-1],'r:',label='P (Train',color='orange',lw=3)\n",
                        "C:\\Users\\Baannana\\AppData\\Local\\Temp/ipykernel_2704/1391377442.py:3: UserWarning: color is redundantly defined by the 'color' keyword argument and the fmt string \"r-\" (-> color='r'). The keyword argument will take precedence.\n",
                        "  plt.plot(thresholds,recall[:-1],'r-',label='R (Test)',color='steelblue',lw=3)\n",
                        "C:\\Users\\Baannana\\AppData\\Local\\Temp/ipykernel_2704/1391377442.py:4: UserWarning: color is redundantly defined by the 'color' keyword argument and the fmt string \"r:\" (-> color='r'). The keyword argument will take precedence.\n",
                        "  plt.plot(thresholds_train,recall_train[:-1],'r:',label='R (Train)',color='steelblue',lw=3)\n"
                    ]
                },
                {
                    "output_type": "execute_result",
                    "data": {
                        "text/plain": [
                            "<matplotlib.legend.Legend at 0x2551c821bb0>"
                        ]
                    },
                    "metadata": {},
                    "execution_count": 37
                },
                {
                    "output_type": "display_data",
                    "data": {
                        "image/png": "[encoded data removed]",
                        "text/plain": [
                            "<Figure size 432x288 with 1 Axes>"
                        ]
                    },
                    "metadata": {
                        "needs_background": "light"
                    }
                }
            ],
            "metadata": {}
        },
        {
            "cell_type": "code",
            "execution_count": null,
            "source": [
                "y_pred_test = booster.predict(dtest) > 0.19\r\n",
                "print ('Test Accuracy:',accuracy_score(y_test,y_pred_test))\r\n",
                "print ('Test F1:',f1_score(y_test,y_pred_test))\r\n",
                "print ('Test Precision:',precision_score(y_test,y_pred_test))\r\n",
                "print ('Test Recall:',recall_score(y_test,y_pred_test))\r\n",
                "y_pred_test = booster.predict(dtest)\r\n",
                "print ('Test AUC:',roc_auc_score(y_test,y_pred_test))\r\n",
                "print ('Test AP:',average_precision_score(y_test,y_pred_test))\r\n",
                "\r\n",
                "y_pred_train = booster.predict(dtrain) > 0.19\r\n",
                "print ('Train Accuracy:',accuracy_score(y_train,y_pred_train))\r\n",
                "print ('Train F1:',f1_score(y_train,y_pred_train))\r\n",
                "print ('Train Precision:',precision_score(y_train,y_pred_train))\r\n",
                "print ('Train Recall:',recall_score(y_train,y_pred_train))\r\n",
                "y_pred_train = booster.predict(dtrain)\r\n",
                "print ('Train AUC:',roc_auc_score(y_train,y_pred_train))\r\n",
                "print ('Test AP:',average_precision_score(y_train,y_pred_train))"
            ],
            "outputs": [
                {
                    "output_type": "stream",
                    "name": "stdout",
                    "text": [
                        "Test Accuracy: 0.975\n",
                        "Test F1: 0.9818181818181818\n",
                        "Test Precision: 0.9642857142857143\n",
                        "Test Recall: 1.0\n",
                        "Test AUC: 1.0\n",
                        "Test AP: 1.0\n",
                        "Train Accuracy: 0.983927323549965\n",
                        "Train F1: 0.9879644165358451\n",
                        "Train Precision: 0.9782383419689119\n",
                        "Train Recall: 0.9978858350951374\n",
                        "Train AUC: 0.997351844990301\n",
                        "Test AP: 0.9983300774027801\n"
                    ]
                }
            ],
            "metadata": {}
        },
        {
            "cell_type": "code",
            "execution_count": null,
            "source": [
                "def plot_split_histogram(feature_name):\r\n",
                "    hist = booster.get_split_value_histogram(feature_name)\r\n",
                "    try:\r\n",
                "        i = float_feature_names.index(feature_name)\r\n",
                "        fake_data = np.zeros((hist.Count.size,len(float_feature_names)))\r\n",
                "        fake_data[:,i] = hist.SplitValue\r\n",
                "        hist.loc[:,'SplitValue'] = scaler.inverse_transform(fake_data)[:,i]\r\n",
                "    except: pass\r\n",
                "    hist.plot(kind='area',x='SplitValue',y='Count')"
            ],
            "outputs": [],
            "metadata": {}
        },
        {
            "cell_type": "code",
            "execution_count": null,
            "source": [
                "plot_split_histogram('temperatur')"
            ],
            "outputs": [
                {
                    "output_type": "display_data",
                    "data": {
                        "image/png": "[encoded data removed]",
                        "text/plain": [
                            "<Figure size 432x288 with 1 Axes>"
                        ]
                    },
                    "metadata": {
                        "needs_background": "light"
                    }
                }
            ],
            "metadata": {}
        },
        {
            "cell_type": "code",
            "execution_count": null,
            "source": [
                "plot_split_histogram('rain')"
            ],
            "outputs": [
                {
                    "output_type": "display_data",
                    "data": {
                        "image/png": "[encoded data removed]",
                        "text/plain": [
                            "<Figure size 432x288 with 1 Axes>"
                        ]
                    },
                    "metadata": {
                        "needs_background": "light"
                    }
                }
            ],
            "metadata": {}
        },
        {
            "cell_type": "code",
            "execution_count": null,
            "source": [
                "plot_split_histogram('wind')"
            ],
            "outputs": [
                {
                    "output_type": "display_data",
                    "data": {
                        "image/png": "[encoded data removed]",
                        "text/plain": [
                            "<Figure size 432x288 with 1 Axes>"
                        ]
                    },
                    "metadata": {
                        "needs_background": "light"
                    }
                }
            ],
            "metadata": {}
        },
        {
            "cell_type": "code",
            "execution_count": null,
            "source": [
                "xgboost.plot_tree(booster,num_trees=1)\r\n",
                "plt.rcParams['figure.figsize'] = [50, 50]\r\n",
                "plt.show()"
            ],
            "outputs": [
                {
                    "output_type": "error",
                    "ename": "ImportError",
                    "evalue": "You must install graphviz to plot tree",
                    "traceback": [
                        "\u001b[1;31m---------------------------------------------------------------------------\u001b[0m",
                        "\u001b[1;31mModuleNotFoundError\u001b[0m                       Traceback (most recent call last)",
                        "\u001b[1;32m~\\AppData\\Local\\Packages\\PythonSoftwareFoundation.Python.3.8_qbz5n2kfra8p0\\LocalCache\\local-packages\\Python38\\site-packages\\xgboost\\plotting.py\u001b[0m in \u001b[0;36mto_graphviz\u001b[1;34m(booster, fmap, num_trees, rankdir, yes_color, no_color, condition_node_params, leaf_node_params, **kwargs)\u001b[0m\n\u001b[0;32m    169\u001b[0m     \u001b[1;32mtry\u001b[0m\u001b[1;33m:\u001b[0m\u001b[1;33m\u001b[0m\u001b[1;33m\u001b[0m\u001b[0m\n\u001b[1;32m--> 170\u001b[1;33m         \u001b[1;32mfrom\u001b[0m \u001b[0mgraphviz\u001b[0m \u001b[1;32mimport\u001b[0m \u001b[0mSource\u001b[0m\u001b[1;33m\u001b[0m\u001b[1;33m\u001b[0m\u001b[0m\n\u001b[0m\u001b[0;32m    171\u001b[0m     \u001b[1;32mexcept\u001b[0m \u001b[0mImportError\u001b[0m \u001b[1;32mas\u001b[0m \u001b[0me\u001b[0m\u001b[1;33m:\u001b[0m\u001b[1;33m\u001b[0m\u001b[1;33m\u001b[0m\u001b[0m\n",
                        "\u001b[1;31mModuleNotFoundError\u001b[0m: No module named 'graphviz'",
                        "\nThe above exception was the direct cause of the following exception:\n",
                        "\u001b[1;31mImportError\u001b[0m                               Traceback (most recent call last)",
                        "\u001b[1;32m~\\AppData\\Local\\Temp/ipykernel_2704/2583928714.py\u001b[0m in \u001b[0;36m<module>\u001b[1;34m\u001b[0m\n\u001b[1;32m----> 1\u001b[1;33m \u001b[0mxgboost\u001b[0m\u001b[1;33m.\u001b[0m\u001b[0mplot_tree\u001b[0m\u001b[1;33m(\u001b[0m\u001b[0mbooster\u001b[0m\u001b[1;33m,\u001b[0m\u001b[0mnum_trees\u001b[0m\u001b[1;33m=\u001b[0m\u001b[1;36m1\u001b[0m\u001b[1;33m)\u001b[0m\u001b[1;33m\u001b[0m\u001b[1;33m\u001b[0m\u001b[0m\n\u001b[0m\u001b[0;32m      2\u001b[0m \u001b[0mplt\u001b[0m\u001b[1;33m.\u001b[0m\u001b[0mrcParams\u001b[0m\u001b[1;33m[\u001b[0m\u001b[1;34m'figure.figsize'\u001b[0m\u001b[1;33m]\u001b[0m \u001b[1;33m=\u001b[0m \u001b[1;33m[\u001b[0m\u001b[1;36m50\u001b[0m\u001b[1;33m,\u001b[0m \u001b[1;36m50\u001b[0m\u001b[1;33m]\u001b[0m\u001b[1;33m\u001b[0m\u001b[1;33m\u001b[0m\u001b[0m\n\u001b[0;32m      3\u001b[0m \u001b[0mplt\u001b[0m\u001b[1;33m.\u001b[0m\u001b[0mshow\u001b[0m\u001b[1;33m(\u001b[0m\u001b[1;33m)\u001b[0m\u001b[1;33m\u001b[0m\u001b[1;33m\u001b[0m\u001b[0m\n",
                        "\u001b[1;32m~\\AppData\\Local\\Packages\\PythonSoftwareFoundation.Python.3.8_qbz5n2kfra8p0\\LocalCache\\local-packages\\Python38\\site-packages\\xgboost\\plotting.py\u001b[0m in \u001b[0;36mplot_tree\u001b[1;34m(booster, fmap, num_trees, rankdir, ax, **kwargs)\u001b[0m\n\u001b[0;32m    244\u001b[0m         \u001b[0m_\u001b[0m\u001b[1;33m,\u001b[0m \u001b[0max\u001b[0m \u001b[1;33m=\u001b[0m \u001b[0mplt\u001b[0m\u001b[1;33m.\u001b[0m\u001b[0msubplots\u001b[0m\u001b[1;33m(\u001b[0m\u001b[1;36m1\u001b[0m\u001b[1;33m,\u001b[0m \u001b[1;36m1\u001b[0m\u001b[1;33m)\u001b[0m\u001b[1;33m\u001b[0m\u001b[1;33m\u001b[0m\u001b[0m\n\u001b[0;32m    245\u001b[0m \u001b[1;33m\u001b[0m\u001b[0m\n\u001b[1;32m--> 246\u001b[1;33m     g = to_graphviz(booster, fmap=fmap, num_trees=num_trees, rankdir=rankdir,\n\u001b[0m\u001b[0;32m    247\u001b[0m                     **kwargs)\n\u001b[0;32m    248\u001b[0m \u001b[1;33m\u001b[0m\u001b[0m\n",
                        "\u001b[1;32m~\\AppData\\Local\\Packages\\PythonSoftwareFoundation.Python.3.8_qbz5n2kfra8p0\\LocalCache\\local-packages\\Python38\\site-packages\\xgboost\\plotting.py\u001b[0m in \u001b[0;36mto_graphviz\u001b[1;34m(booster, fmap, num_trees, rankdir, yes_color, no_color, condition_node_params, leaf_node_params, **kwargs)\u001b[0m\n\u001b[0;32m    170\u001b[0m         \u001b[1;32mfrom\u001b[0m \u001b[0mgraphviz\u001b[0m \u001b[1;32mimport\u001b[0m \u001b[0mSource\u001b[0m\u001b[1;33m\u001b[0m\u001b[1;33m\u001b[0m\u001b[0m\n\u001b[0;32m    171\u001b[0m     \u001b[1;32mexcept\u001b[0m \u001b[0mImportError\u001b[0m \u001b[1;32mas\u001b[0m \u001b[0me\u001b[0m\u001b[1;33m:\u001b[0m\u001b[1;33m\u001b[0m\u001b[1;33m\u001b[0m\u001b[0m\n\u001b[1;32m--> 172\u001b[1;33m         \u001b[1;32mraise\u001b[0m \u001b[0mImportError\u001b[0m\u001b[1;33m(\u001b[0m\u001b[1;34m'You must install graphviz to plot tree'\u001b[0m\u001b[1;33m)\u001b[0m \u001b[1;32mfrom\u001b[0m \u001b[0me\u001b[0m\u001b[1;33m\u001b[0m\u001b[1;33m\u001b[0m\u001b[0m\n\u001b[0m\u001b[0;32m    173\u001b[0m     \u001b[1;32mif\u001b[0m \u001b[0misinstance\u001b[0m\u001b[1;33m(\u001b[0m\u001b[0mbooster\u001b[0m\u001b[1;33m,\u001b[0m \u001b[0mXGBModel\u001b[0m\u001b[1;33m)\u001b[0m\u001b[1;33m:\u001b[0m\u001b[1;33m\u001b[0m\u001b[1;33m\u001b[0m\u001b[0m\n\u001b[0;32m    174\u001b[0m         \u001b[0mbooster\u001b[0m \u001b[1;33m=\u001b[0m \u001b[0mbooster\u001b[0m\u001b[1;33m.\u001b[0m\u001b[0mget_booster\u001b[0m\u001b[1;33m(\u001b[0m\u001b[1;33m)\u001b[0m\u001b[1;33m\u001b[0m\u001b[1;33m\u001b[0m\u001b[0m\n",
                        "\u001b[1;31mImportError\u001b[0m: You must install graphviz to plot tree"
                    ]
                },
                {
                    "output_type": "display_data",
                    "data": {
                        "image/png": "[encoded data removed]",
                        "text/plain": [
                            "<Figure size 432x288 with 1 Axes>"
                        ]
                    },
                    "metadata": {
                        "needs_background": "light"
                    }
                }
            ],
            "metadata": {}
        },
        {
            "cell_type": "code",
            "execution_count": null,
            "source": [],
            "outputs": [],
            "metadata": {}
        }
    ],
    "metadata": {
        "orig_nbformat": 4,
        "language_info": {
            "name": "python",
            "version": "3.8.10",
            "mimetype": "text/x-python",
            "codemirror_mode": {
                "name": "ipython",
                "version": 3
            },
            "pygments_lexer": "ipython3",
            "nbconvert_exporter": "python",
            "file_extension": ".py"
        },
        "kernelspec": {
            "name": "python3",
            "display_name": "Python 3.8.10 64-bit (windows store)"
        },
        "interpreter": {
            "hash": "9c14d84c7e79482e11eb99e588a0eab546d791b33bbfb86cd199096765ee886b"
        }
    },
    "nbformat": 4,
    "nbformat_minor": 2
}