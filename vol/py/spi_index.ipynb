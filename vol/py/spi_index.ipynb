{
 "cells": [
  {
   "cell_type": "code",
   "execution_count": null,
   "source": [],
   "outputs": [],
   "metadata": {}
  }
 ],
 "metadata": {
  "orig_nbformat": 4,
  "language_info": {
   "name": "python",
   "version": "3.8.10"
  },
  "kernelspec": {
   "name": "python3",
   "display_name": "Python 3.8.10 64-bit (windows store)"
  },
  "interpreter": {
   "hash": "9c14d84c7e79482e11eb99e588a0eab546d791b33bbfb86cd199096765ee886b"
  }
 },
 "nbformat": 4,
 "nbformat_minor": 2
}